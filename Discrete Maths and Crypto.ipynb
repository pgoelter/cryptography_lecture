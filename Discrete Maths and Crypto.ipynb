{
 "cells": [
  {
   "cell_type": "code",
   "execution_count": 34,
   "id": "important-climb",
   "metadata": {},
   "outputs": [],
   "source": [
    "\"\"\"All necessary imports. Execute this cell first before any other.\"\"\"\n",
    "import numpy as np\n",
    "import pandas as pd\n",
    "from math import gcd, ceil, sqrt\n"
   ]
  },
  {
   "cell_type": "markdown",
   "id": "authorized-february",
   "metadata": {},
   "source": [
    "# Modulo operations"
   ]
  },
  {
   "cell_type": "code",
   "execution_count": null,
   "id": "qualified-qatar",
   "metadata": {},
   "outputs": [],
   "source": []
  },
  {
   "cell_type": "markdown",
   "id": "convertible-sitting",
   "metadata": {},
   "source": [
    "# Euclidian Algorithm & Extended Euclidian Algorithm\n",
    "## Example - standard euclidian algorithm to calculate createst common divisor\n",
    "$99 = 1 \\cdot 78 + 21$  \n",
    "$78 = 3 \\cdot 21 + 15$  \n",
    "$21 = 1 \\cdot 15 + 6$  \n",
    "$15 = 2 \\cdot 6 + 3$  \n",
    "$6  = 2 \\cdot 3 + 0$\n",
    "\n",
    "## Example - extended euclidian algorithm\n",
    "$3 = 15 - 2 \\cdot 6$  \n",
    "$ = 15 - 2 \\cdot (21 - 1 \\cdot 15) = 3 \\cdot 15 - 2 \\cdot 21$  \n",
    "$ = 3 \\cdot (78 - 3 \\cdot 21) - 2 \\cdot 21 = 3 \\cdot 78 - 11 \\cdot 21$  \n",
    "$ = 3 \\cdot 78 - 11 \\cdot (99 - 1 \\cdot 78) = 14 \\cdot 78 - 11 \\cdot 99$"
   ]
  },
  {
   "cell_type": "code",
   "execution_count": 35,
   "id": "bearing-services",
   "metadata": {},
   "outputs": [],
   "source": [
    "def gcd_recursive(a: int, b: int):\n",
    "    \"\"\"Recursive implementation of the euclidian algorithm to calculate the createst common divisor of two numbers a and b.\n",
    "    Args:\n",
    "        a: Integer.\n",
    "        b: Integer.\n",
    "    Returns:\n",
    "        Createst common divisor.\n",
    "    \"\"\"\n",
    "    if b == 0:\n",
    "        return a\n",
    "    else:\n",
    "        return ggt_rec(b, a % b)\n",
    "    \n",
    "\n",
    "def gcd_iterative(a: int, b: int):\n",
    "    \"\"\"Iterative implementation of the euclidian algorithm to calculate the createst commond divisor of two numbers a and b.\n",
    "    Args:\n",
    "        a: Integer.\n",
    "        b: Integer.\n",
    "    Returns:\n",
    "        Createst common divisor.\n",
    "    \"\"\"\n",
    "    while b != 0:\n",
    "        a, b = b, a % b\n",
    "    return a\n",
    "\n",
    "def extended_gcd_recursive(a: int, b: int):\n",
    "    \"\"\"Recursive implementation of the extended euclidian algorithm. gcd(a,b) = s*a + t*b\n",
    "    Args:\n",
    "        a: Integer.\n",
    "        b: Integer.\n",
    "    Returns:\n",
    "        Tuple containing (GCD, s, a).\n",
    "    \"\"\"\n",
    "    if b==0:\n",
    "        return a, 1, 0\n",
    "    else:\n",
    "        g, t, s = extended_ea_recursive(b, a % b)\n",
    "        q = a // b\n",
    "        return g, s, t - q * s\n",
    "    \n",
    "\n",
    "def extended_gcd_iterative(a: int, b: int):\n",
    "    \"\"\"Iterative implementation of the extended euclidian algorithm. gcd(a,b) = s*a + t*b\n",
    "    Args:\n",
    "        a: Integer.\n",
    "        b: Integer.\n",
    "    Returns:\n",
    "        Tuple containing (GCD, s, a).\n",
    "    \"\"\"\n",
    "    u, v, s, t = 1, 0, 0, 1\n",
    "    \n",
    "    while b != 0:\n",
    "        q = a // b\n",
    "        a, b = b, a - q * b\n",
    "        u, s = s, u - q * s\n",
    "        v, t = t, v - q * t\n",
    "        \n",
    "    return a, u, v\n"
   ]
  },
  {
   "cell_type": "markdown",
   "id": "resistant-hopkins",
   "metadata": {},
   "source": [
    "\n",
    "# Residues\n",
    "Let $m \\in \\mathbb{N}$ und $a \\in \\mathbb{Z}$, then\n",
    "$ [a]_m := \\{x \\in \\mathbb{Z} \\,|\\, x \\;\\equiv \\;(mod \\,  m) \\}$\n",
    "is called the residue of a modulo m.. It contains all integers that have the same remainder as a when divided by m."
   ]
  },
  {
   "cell_type": "code",
   "execution_count": null,
   "id": "congressional-office",
   "metadata": {
    "tags": []
   },
   "outputs": [],
   "source": [
    "def residue(a: int, m: int, range_start: int=-30, step: int=1):\n",
    "    \"\"\"Calculates the set of a given residue (ger: Restklasse) [a]_m. Contains all integers that have the same remainder as a when divided by m.\n",
    "    Args:\n",
    "        a: Numerator\n",
    "        m: Denominator\n",
    "        range_start: Used to restrict the size of the output list. Start from a negative number. E.g. -30 means output all numbers that are in the interval of [-30, 30]\n",
    "        step: Check every 'step' elements from range_start on.\n",
    "    \"\"\"\n",
    "    result = []\n",
    "    remainder = a % m\n",
    "    \n",
    "    for i in range(range_start, abs(range_start) + 1, step):\n",
    "        _remainder = i % m\n",
    "        if _remainder == remainder:\n",
    "            result.append(i)\n",
    "    return result\n",
    "\n",
    "def residue_is_invertible(a: int, m: int):\n",
    "    \"\"\"Checks whether a resiude can be inverted by applying the euclidian algorithm to find the gcd.\n",
    "    Args:\n",
    "        a: Numerator\n",
    "        m:Denominator\n",
    "    \"\"\"\n",
    "    def _is_coprime(x, y):\n",
    "        return gcd(x, y) == 1\n",
    "\n",
    "    if is_coprime(a, m):\n",
    "        return True\n",
    "    else:\n",
    "        return False\n",
    "    \n",
    "def modinverse(a: int, m):\n",
    "    \"\"\"Calculates the multiplicative inverse of a mod m.\n",
    "    Args:\n",
    "        a: Integer.\n",
    "        m: Integer.\n",
    "    Returns:\n",
    "        Multiplicative inverse of the residue.\n",
    "    \"\"\"\n",
    "    # You can also use extended_gcd_iterative instead\n",
    "    g, u, v = extended_gcd_iterative(a, m)\n",
    "    \n",
    "    return u % m\n"
   ]
  },
  {
   "cell_type": "markdown",
   "id": "decimal-saturday",
   "metadata": {},
   "source": [
    "# Diffie-Hellman Key Exchange"
   ]
  },
  {
   "cell_type": "markdown",
   "id": "therapeutic-ownership",
   "metadata": {
    "slideshow": {
     "slide_type": "slide"
    },
    "tags": []
   },
   "source": []
  },
  {
   "cell_type": "code",
   "execution_count": 30,
   "id": "choice-endorsement",
   "metadata": {},
   "outputs": [],
   "source": []
  },
  {
   "cell_type": "code",
   "execution_count": null,
   "id": "divine-receiver",
   "metadata": {},
   "outputs": [],
   "source": []
  },
  {
   "cell_type": "code",
   "execution_count": null,
   "id": "sunset-board",
   "metadata": {},
   "outputs": [],
   "source": []
  },
  {
   "cell_type": "code",
   "execution_count": null,
   "id": "driving-sending",
   "metadata": {},
   "outputs": [],
   "source": []
  }
 ],
 "metadata": {
  "kernelspec": {
   "display_name": "DataScience",
   "language": "python",
   "name": "datascience"
  },
  "language_info": {
   "codemirror_mode": {
    "name": "ipython",
    "version": 3
   },
   "file_extension": ".py",
   "mimetype": "text/x-python",
   "name": "python",
   "nbconvert_exporter": "python",
   "pygments_lexer": "ipython3",
   "version": "3.8.8"
  }
 },
 "nbformat": 4,
 "nbformat_minor": 5
}
